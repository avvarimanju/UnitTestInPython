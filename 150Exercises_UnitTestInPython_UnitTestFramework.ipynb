{
  "nbformat": 4,
  "nbformat_minor": 0,
  "metadata": {
    "colab": {
      "provenance": [],
      "authorship_tag": "ABX9TyPugFKSmC667TgWUXSiSjD1",
      "include_colab_link": true
    },
    "kernelspec": {
      "name": "python3",
      "display_name": "Python 3"
    },
    "language_info": {
      "name": "python"
    }
  },
  "cells": [
    {
      "cell_type": "markdown",
      "metadata": {
        "id": "view-in-github",
        "colab_type": "text"
      },
      "source": [
        "<a href=\"https://colab.research.google.com/github/avvarimanju/UnitTestInPython/blob/main/150Exercises_UnitTestInPython_UnitTestFramework.ipynb\" target=\"_parent\"><img src=\"https://colab.research.google.com/assets/colab-badge.svg\" alt=\"Open In Colab\"/></a>"
      ]
    },
    {
      "cell_type": "code",
      "execution_count": null,
      "metadata": {
        "colab": {
          "base_uri": "https://localhost:8080/"
        },
        "id": "BZU-cDffUIeT",
        "outputId": "97144b25-0afe-40c5-bb0f-1a8e614f3e27"
      },
      "outputs": [
        {
          "output_type": "stream",
          "name": "stdout",
          "text": [
            "hello World\n"
          ]
        }
      ],
      "source": [
        "print(\"hello World\")"
      ]
    },
    {
      "cell_type": "code",
      "source": [
        "print(\"Hello github\")"
      ],
      "metadata": {
        "id": "hK5YfwLZs7hx",
        "outputId": "ff07c065-dc28-46be-af48-a43d182bdf79",
        "colab": {
          "base_uri": "https://localhost:8080/"
        }
      },
      "execution_count": 1,
      "outputs": [
        {
          "output_type": "stream",
          "name": "stdout",
          "text": [
            "Hello github\n"
          ]
        }
      ]
    },
    {
      "cell_type": "code",
      "source": [],
      "metadata": {
        "id": "5O3sfRQOs-ej"
      },
      "execution_count": null,
      "outputs": []
    }
  ]
}